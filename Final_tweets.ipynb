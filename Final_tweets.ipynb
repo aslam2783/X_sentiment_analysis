{
 "cells": [
  {
   "cell_type": "code",
   "execution_count": 7,
   "metadata": {},
   "outputs": [
    {
     "ename": "SyntaxError",
     "evalue": "invalid syntax (52407608.py, line 5)",
     "output_type": "error",
     "traceback": [
      "\u001b[0;36m  Cell \u001b[0;32mIn[7], line 5\u001b[0;36m\u001b[0m\n\u001b[0;31m    from selenium\u001b[0m\n\u001b[0m                  ^\u001b[0m\n\u001b[0;31mSyntaxError\u001b[0m\u001b[0;31m:\u001b[0m invalid syntax\n"
     ]
    }
   ],
   "source": [
    "import pandas as pd\n",
    "import numpy as np\n",
    "import seaborn as sns\n",
    "from matplotlib import pyplot as plt\n",
    "from selenium import webdriver\n",
    "from selenium.webdriver.common.by import By\n",
    "from selenium.webdriver.common.keys import Keys\n",
    "import time"
   ]
  },
  {
   "cell_type": "code",
   "execution_count": null,
   "metadata": {},
   "outputs": [],
   "source": [
    "#define Mozilla Firefox driver and open twitter login page\n",
    "driver = webdriver.Firefox()\n",
    "driver.get(\"https://twitter.com/login\")\n",
    "\n"
   ]
  },
  {
   "cell_type": "code",
   "execution_count": null,
   "metadata": {},
   "outputs": [],
   "source": [
    "#log in to twitter with email and password\n",
    "username = driver.find_element(By.NAME, 'session[tokyohonda@yahoo.com]')\n",
    "password = driver.find_element(By.NAME, 'session[Lahore10!]')\n",
    "time.sleep(5) # Wait for login to complete"
   ]
  },
  {
   "cell_type": "code",
   "execution_count": null,
   "metadata": {},
   "outputs": [],
   "source": [
    "#search tweets for Trump hashtag\n",
    "search_box = driver.find_element(By.XPATH, '//input[@aria-label=\"Search query\"]')\n",
    "search_box.send_keys('#trump')\n",
    "search_box.send_keys(Keys.RETURN)\n",
    "time.sleep(5) # Allow search results to load\n",
    "tweets = []\n",
    "tweet_elements = driver.find_elements(By.XPATH, '//div[@data-testid=\"tweetText\"]')\n",
    "for tweet in tweet_elements:\n",
    "tweets.append(tweet.text)\n",
    "driver.quit()"
   ]
  },
  {
   "cell_type": "code",
   "execution_count": null,
   "metadata": {},
   "outputs": [],
   "source": [
    "#save tweets gathered\n",
    "#import pandas as pd\n",
    "#df = pd.DataFrame(tweets, columns=['Tweet'])\n",
    "#df.to_csv('tweets.csv', index=False)\n"
   ]
  },
  {
   "cell_type": "code",
   "execution_count": null,
   "metadata": {},
   "outputs": [],
   "source": []
  }
 ],
 "metadata": {
  "kernelspec": {
   "display_name": "Python 3",
   "language": "python",
   "name": "python3"
  },
  "language_info": {
   "codemirror_mode": {
    "name": "ipython",
    "version": 3
   },
   "file_extension": ".py",
   "mimetype": "text/x-python",
   "name": "python",
   "nbconvert_exporter": "python",
   "pygments_lexer": "ipython3",
   "version": "3.12.6"
  }
 },
 "nbformat": 4,
 "nbformat_minor": 2
}
